{
 "cells": [
  {
   "cell_type": "code",
   "execution_count": 1,
   "id": "c0957234-ba57-4199-adfa-9d17ede0b8f9",
   "metadata": {},
   "outputs": [
    {
     "data": {
      "application/vnd.jupyter.widget-view+json": {
       "model_id": "38488f7962d54439bf15ff69312bedd5",
       "version_major": 2,
       "version_minor": 0
      },
      "text/plain": [
       "MitoWidget(analysis_data_json='{\"analysisName\": \"id-ifbliabtft\", \"analysisToReplay\": null, \"code\": [], \"stepSu…"
      ]
     },
     "metadata": {},
     "output_type": "display_data"
    }
   ],
   "source": [
    "# Run this cell to render a mitosheet\n",
    "# See mito's documentation here: https://docs.trymito.io/how-to/creating-a-mitosheet\n",
    "# Join our Slack for support here: https://join.slack.com/t/trymito/shared_invite/zt-1h6t163v7-xLPudO7pjQNKccXz7h7GSg\n",
    "\n",
    "import mitosheet\n",
    "mitosheet.sheet(analysis_to_replay=\"id-ifbliabtft\")"
   ]
  },
  {
   "cell_type": "code",
   "execution_count": null,
   "id": "9d63cba8-2c4f-4b1c-9d90-d20c3066c66c",
   "metadata": {},
   "outputs": [],
   "source": [
    "from mitosheet import *; register_analysis(\"id-ifbliabtft\");\n",
    "    \n",
    "# Imported Sheet1 from /home/rizko/Documents/Coding/Project/dash-ukpbj/data/sirupdp2022.xlsx\n",
    "import pandas as pd\n",
    "sheet_df_dictonary = pd.read_excel(r'/home/rizko/Documents/Coding/Project/dash-ukpbj/data/sirupdp2022.xlsx', engine='openpyxl', sheet_name=['Sheet1'], skiprows=0)\n",
    "Sheet1 = sheet_df_dictonary['Sheet1']\n",
    "\n",
    "# Renamed Sheet1 to sirupdp\n",
    "sirupdp = Sheet1\n",
    "\n",
    "# Imported Sheet1 from /home/rizko/Documents/Coding/Project/dash-ukpbj/data/siruppap2022.xlsx\n",
    "import pandas as pd\n",
    "sheet_df_dictonary = pd.read_excel(r'/home/rizko/Documents/Coding/Project/dash-ukpbj/data/siruppap2022.xlsx', engine='openpyxl', sheet_name=['Sheet1'], skiprows=0)\n",
    "Sheet1 = sheet_df_dictonary['Sheet1']\n",
    "\n",
    "# Renamed Sheet1 to siruppap\n",
    "siruppap = Sheet1\n",
    "\n",
    "# Merged sirupdp and siruppap into df3\n",
    "temp_df = siruppap.drop_duplicates(subset=['koderup']) # Remove duplicates so lookup merge only returns first match\n",
    "df3 = sirupdp.merge(temp_df, left_on=['idrup'], right_on=['koderup'], how='left', suffixes=['_sirupdp', '_siruppap'])\n",
    "\n",
    "# Filtered statusumumkan\n",
    "sirupdp = sirupdp[sirupdp['statusumumkan'].apply(lambda val: all(val != s for s in ['Terrevisi Satu ke Satu', 'Terrevisi Satu ke Banyak', 'Terrevisi Batal', 'Terinisiasi', 'Terdelete', 'Konsolidasi Satu Satker', 'Konsolidasi PPK', 'Inisiasi Revisi Satu ke Satu', 'Final Draft', 'Draf Lengkap', 'Draf']))]\n",
    "\n",
    "# Merged sirupdp and siruppap into df3\n",
    "siruppap_tmp = siruppap.drop(['mak', 'tahun_anggaran_dana', 'kd_klpd', 'kodeobjekakun', 'pagu'], axis=1)\n",
    "df3 = sirupdp.merge(siruppap_tmp, left_on=['idrup'], right_on=['koderup'], how='left', suffixes=['_sirupdp', '_siruppap'])\n",
    "\n",
    "# Merged sirupdp and siruppap into df3\n",
    "temp_df = siruppap.drop_duplicates(subset=['koderup']) # Remove duplicates so lookup merge only returns first match\n",
    "df3 = sirupdp.merge(temp_df, left_on=['idrup'], right_on=['koderup'], how='left', suffixes=['_sirupdp', '_siruppap'])\n",
    "\n",
    "# Merged df3 and siruppap into df4\n",
    "temp_df = siruppap.drop_duplicates(subset=['koderup']) # Remove duplicates so lookup merge only returns first match\n",
    "siruppap_tmp = temp_df.drop(['mak', 'tahun_anggaran_dana', 'kd_klpd', 'kodeobjekakun', 'pagu'], axis=1)\n",
    "df4 = df3.merge(siruppap_tmp, left_on=['koderup'], right_on=['koderup'], how='left', suffixes=['_df3', '_siruppap'])\n",
    "\n",
    "# Merged sirupdp and siruppap into df3\n",
    "temp_df = siruppap.drop_duplicates(subset=['koderup']) # Remove duplicates so lookup merge only returns first match\n",
    "siruppap_tmp = temp_df.drop(['mak', 'tahun_anggaran_dana', 'kd_klpd', 'kodeobjekakun', 'pagu'], axis=1)\n",
    "df3 = sirupdp.merge(siruppap_tmp, left_on=['idrup'], right_on=['koderup'], how='left', suffixes=['_sirupdp', '_siruppap'])\n",
    "\n",
    "# Renamed df3 to SirupSumberDana\n",
    "SirupSumberDana = df3\n",
    "\n",
    "# Imported Sheet1 from /home/rizko/Documents/Coding/Project/dash-ukpbj/data/katalogdetail.xlsx\n",
    "import pandas as pd\n",
    "sheet_df_dictonary = pd.read_excel(r'/home/rizko/Documents/Coding/Project/dash-ukpbj/data/katalogdetail.xlsx', engine='openpyxl', sheet_name=['Sheet1'], skiprows=0)\n",
    "Sheet1 = sheet_df_dictonary['Sheet1']\n",
    "\n",
    "# Filtered jenis_katalog\n",
    "Sheet1 = Sheet1[Sheet1['jenis_katalog'].apply(lambda val: all(val != s for s in ['Nasional', 'Sektoral']))]\n",
    "\n",
    "# Renamed Sheet1 to Katalog\n",
    "Katalog = Sheet1\n",
    "\n",
    "# Imported Sheet1 from /home/rizko/Documents/Coding/Project/dash-ukpbj/data/prodkatalog.xlsx\n",
    "import pandas as pd\n",
    "sheet_df_dictonary = pd.read_excel(r'/home/rizko/Documents/Coding/Project/dash-ukpbj/data/prodkatalog.xlsx', engine='openpyxl', sheet_name=['Sheet1'], skiprows=0)\n",
    "Sheet1 = sheet_df_dictonary['Sheet1']\n",
    "\n",
    "# Imported Sheet1 from /home/rizko/Documents/Coding/Project/dash-ukpbj/data/komoditasdetail.xlsx\n",
    "import pandas as pd\n",
    "sheet_df_dictonary = pd.read_excel(r'/home/rizko/Documents/Coding/Project/dash-ukpbj/data/komoditasdetail.xlsx', engine='openpyxl', sheet_name=['Sheet1'], skiprows=0)\n",
    "Sheet1_1 = sheet_df_dictonary['Sheet1']\n",
    "\n",
    "# Filtered jenis_katalog\n",
    "Sheet1_1 = Sheet1_1[Sheet1_1['jenis_katalog'].apply(lambda val: all(val != s for s in ['Sektoral', 'Nasional']))]\n",
    "\n",
    "# Filtered nama_instansi_katalog\n",
    "Sheet1_1 = Sheet1_1[Sheet1_1['nama_instansi_katalog'].apply(lambda val: all(val != s for s in ['Pemerintah Daerah Kabupaten Bengkayang', 'Pemerintah Daerah Kabupaten Kapuas Hulu', 'Pemerintah Daerah Kabupaten Gresik', 'Pemerintah Daerah Provinsi Jawa Timur', 'Pemerintah Daerah Kota Singkawang', 'Pemerintah Daerah Kota Pontianak', 'Pemerintah Daerah Kota Mojokerto', 'Pemerintah Daerah Kabupaten Sleman', 'Pemerintah Daerah Kabupaten Sintang', 'Pemerintah Daerah Kabupaten Sekadau', 'Pemerintah Daerah Kabupaten Sanggau', 'Pemerintah Daerah Kabupaten Mempawah', 'Pemerintah Daerah Kabupaten Melawi', 'Pemerintah Daerah Kabupaten Landak', 'Pemerintah Daerah Kabupaten Kubu Raya', 'Pemerintah Daerah Kabupaten Ketapang', 'Pemerintah Daerah Kabupaten Kayong Utara']))]\n",
    "\n",
    "# Renamed Sheet1 to Produk\n",
    "Produk = Sheet1\n",
    "\n",
    "# Renamed Sheet1_1 to Etalase\n",
    "Etalase = Sheet1_1\n",
    "\n",
    "# Filtered kd_klpd\n",
    "Katalog = Katalog[Katalog['kd_klpd'].apply(lambda val: all(val != s for s in ['D198', 'D199', 'D200', 'D201', 'D202', 'D204', 'D205', 'D206', 'D207', 'D209', 'D210', 'D211', 'D552']))]\n"
   ]
  }
 ],
 "metadata": {
  "kernelspec": {
   "display_name": "Python 3 (ipykernel)",
   "language": "python",
   "name": "python3"
  },
  "language_info": {
   "codemirror_mode": {
    "name": "ipython",
    "version": 3
   },
   "file_extension": ".py",
   "mimetype": "text/x-python",
   "name": "python",
   "nbconvert_exporter": "python",
   "pygments_lexer": "ipython3",
   "version": "3.10.8"
  },
  "widgets": {
   "application/vnd.jupyter.widget-state+json": {
    "state": {},
    "version_major": 2,
    "version_minor": 0
   }
  }
 },
 "nbformat": 4,
 "nbformat_minor": 5
}
